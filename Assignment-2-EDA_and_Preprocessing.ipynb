{
 "cells": [
  {
   "cell_type": "code",
   "execution_count": null,
   "id": "819ea288-0af2-44f3-8766-0d2f47857a00",
   "metadata": {},
   "outputs": [],
   "source": [
    "# EDA_and_Preprocessing\n"
   ]
  },
  {
   "cell_type": "code",
   "execution_count": 126,
   "id": "bd5a3a19-0757-4413-9977-54df9f38d496",
   "metadata": {},
   "outputs": [],
   "source": [
    "import pandas as pd\n",
    "import numpy as np\n",
    "import matplotlib.pyplot as plt\n",
    "import seaborn as sns\n",
    "from sklearn.preprocessing import StandardScaler, MinMaxScaler"
   ]
  },
  {
   "cell_type": "code",
   "execution_count": 110,
   "id": "2d88714f-0983-4ea3-877d-4a603a2cff0d",
   "metadata": {},
   "outputs": [],
   "source": [
    "df = pd.read_csv('Employee.csv')"
   ]
  },
  {
   "cell_type": "code",
   "execution_count": null,
   "id": "12123cc0-c7fd-4b2c-b7f2-11284d8276b5",
   "metadata": {},
   "outputs": [],
   "source": [
    "#1. Data Exploration"
   ]
  },
  {
   "cell_type": "code",
   "execution_count": 116,
   "id": "fd121087-85cb-47d3-84f2-8d1801885052",
   "metadata": {},
   "outputs": [
    {
     "name": "stdout",
     "output_type": "stream",
     "text": [
      "| Company   | Age   | Salary   | Place    | Country   | Gender   |\n",
      "|:----------|:------|:---------|:---------|:----------|:---------|\n",
      "| TCS       | 20    | nan      | Chennai  | India     | 0        |\n",
      "| Infosys   | 30    | nan      | Mumbai   | India     | 0        |\n",
      "| TCS       | 35    | 2300     | Calcutta | India     | 0        |\n",
      "| Infosys   | 40    | 3000     | Delhi    | India     | 0        |\n",
      "| TCS       | 23    | 4000     | Mumbai   | India     | 0        |\n"
     ]
    }
   ],
   "source": [
    "# explore data\n",
    "print(df.head().to_markdown(index=False, numalign=\"left\", stralign=\"left\"))"
   ]
  },
  {
   "cell_type": "code",
   "execution_count": 124,
   "id": "38513fca-0385-49cf-b71f-d9bf3c2eabcf",
   "metadata": {},
   "outputs": [
    {
     "name": "stdout",
     "output_type": "stream",
     "text": [
      "<class 'pandas.core.frame.DataFrame'>\n",
      "RangeIndex: 148 entries, 0 to 147\n",
      "Data columns (total 6 columns):\n",
      " #   Column   Non-Null Count  Dtype  \n",
      "---  ------   --------------  -----  \n",
      " 0   Company  140 non-null    object \n",
      " 1   Age      130 non-null    float64\n",
      " 2   Salary   124 non-null    float64\n",
      " 3   Place    134 non-null    object \n",
      " 4   Country  148 non-null    object \n",
      " 5   Gender   148 non-null    int64  \n",
      "dtypes: float64(2), int64(1), object(3)\n",
      "memory usage: 7.1+ KB\n",
      "None\n"
     ]
    }
   ],
   "source": [
    "print(df.info())"
   ]
  },
  {
   "cell_type": "code",
   "execution_count": 128,
   "id": "829bd0e7-1316-4ff5-b2e2-0683492f3f1c",
   "metadata": {},
   "outputs": [
    {
     "name": "stdout",
     "output_type": "stream",
     "text": [
      "Column 'Company': 7 unique values - ['TCS' 'Infosys' 'CTS' nan 'Tata Consultancy Services' 'Congnizant'\n",
      " 'Infosys Pvt Lmt']\n",
      "Column 'Age': 30 unique values - [20. 30. 35. 40. 23. nan 34. 45. 18. 22. 32. 37. 50. 21. 46. 36. 26. 41.\n",
      " 24. 25. 43. 19. 38. 51. 31. 44. 33. 17.  0. 54.]\n",
      "Column 'Salary': 41 unique values - [  nan 2300. 3000. 4000. 5000. 6000. 7000. 8000. 9000. 1089. 1234. 3030.\n",
      " 3045. 3184. 4824. 5835. 7084. 8943. 8345. 9284. 9876. 2034. 7654. 2934.\n",
      " 4034. 5034. 8202. 9024. 4345. 6544. 6543. 3234. 4324. 5435. 5555. 8787.\n",
      " 3454. 5654. 5009. 5098. 3033.]\n",
      "Column 'Place': 12 unique values - ['Chennai' 'Mumbai' 'Calcutta' 'Delhi' 'Podicherry' 'Cochin' nan 'Noida'\n",
      " 'Hyderabad' 'Bhopal' 'Nagpur' 'Pune']\n",
      "Column 'Country': 1 unique values - ['India']\n",
      "Column 'Gender': 2 unique values - [0 1]\n"
     ]
    }
   ],
   "source": [
    "# Unique values and their lengths\n",
    "for col in df.columns:\n",
    "    unique_values = df[col].unique()\n",
    "    print(f\"Column '{col}': {len(unique_values)} unique values - {unique_values}\")"
   ]
  },
  {
   "cell_type": "code",
   "execution_count": 134,
   "id": "64990cf1-91b2-46a1-b410-d811571a2a33",
   "metadata": {},
   "outputs": [
    {
     "name": "stdout",
     "output_type": "stream",
     "text": [
      "              Age       Salary      Gender\n",
      "count  130.000000   124.000000  148.000000\n",
      "mean    30.484615  5312.467742    0.222973\n",
      "std     11.096640  2573.764683    0.417654\n",
      "min      0.000000  1089.000000    0.000000\n",
      "25%     22.000000  3030.000000    0.000000\n",
      "50%     32.500000  5000.000000    0.000000\n",
      "75%     37.750000  8000.000000    0.000000\n",
      "max     54.000000  9876.000000    1.000000\n"
     ]
    }
   ],
   "source": [
    "# statistical analysis \n",
    "print(df.describe())"
   ]
  },
  {
   "cell_type": "code",
   "execution_count": 138,
   "id": "705afbcb-16ea-46fe-a47c-2bc13b946df2",
   "metadata": {},
   "outputs": [],
   "source": [
    "# Renaming columns\n",
    "df=df.rename(columns={'Company':'Company Name','Place':'City'})"
   ]
  },
  {
   "cell_type": "code",
   "execution_count": 142,
   "id": "3d848fb8-7196-4a4d-b385-67991391d90d",
   "metadata": {},
   "outputs": [],
   "source": [
    "df\n",
    "df1=df.copy()"
   ]
  },
  {
   "cell_type": "markdown",
   "id": "db0b0512-b5f5-4594-9cd7-0f27dce3d487",
   "metadata": {},
   "source": [
    "# 2:Data cleaning"
   ]
  },
  {
   "cell_type": "code",
   "execution_count": 150,
   "id": "3284f6f0-eda2-494e-8faf-4106f1bde252",
   "metadata": {},
   "outputs": [
    {
     "name": "stdout",
     "output_type": "stream",
     "text": [
      "Company Name     8\n",
      "Age             24\n",
      "Salary          24\n",
      "City            14\n",
      "Country          0\n",
      "Gender           0\n",
      "dtype: int64\n"
     ]
    }
   ],
   "source": [
    "# missing values\n",
    "print(df1.isnull().sum())\n",
    "df1['Age'] = df1['Age'].replace(0, np.nan)"
   ]
  },
  {
   "cell_type": "code",
   "execution_count": 166,
   "id": "cb678dd2-5d12-4ba8-bc09-df9c492d336b",
   "metadata": {},
   "outputs": [],
   "source": [
    "# missing values in Company columns replace using mode()\n",
    "df1['Company Name']=df1['Company Name'].mode()[0]"
   ]
  },
  {
   "cell_type": "code",
   "execution_count": 162,
   "id": "4129a8e1-3607-4dac-a7df-e013065af3e0",
   "metadata": {},
   "outputs": [],
   "source": [
    "# missing values in age column replace using mean of age\n",
    "mean_age = df1['Age'].mean()  \n",
    "df1['Age'] = df1['Age'].fillna(mean_age)"
   ]
  },
  {
   "cell_type": "code",
   "execution_count": 164,
   "id": "3b075727-c9b6-4c1c-b2f6-c0f84c31077d",
   "metadata": {},
   "outputs": [],
   "source": [
    "# missing values in Salary column using median()\n",
    "median_salary=df1['Salary'].median()\n",
    "df1['Salary']=df1['Salary'].fillna(median_salary)"
   ]
  },
  {
   "cell_type": "code",
   "execution_count": 168,
   "id": "17a9e8a8-18e7-474f-ba5e-6ef391b2ef9a",
   "metadata": {},
   "outputs": [],
   "source": [
    "# missing values in City column replace using mode()\n",
    "df1['City']=df1['City'].mode()[0]"
   ]
  },
  {
   "cell_type": "code",
   "execution_count": 170,
   "id": "fa8a8e70-420b-4c08-9f8d-3cd8733cb7f9",
   "metadata": {
    "scrolled": true
   },
   "outputs": [
    {
     "name": "stdout",
     "output_type": "stream",
     "text": [
      "Company Name    0\n",
      "Age             0\n",
      "Salary          0\n",
      "City            0\n",
      "Country         0\n",
      "Gender          0\n",
      "dtype: int64\n"
     ]
    }
   ],
   "source": [
    "print(df1.isnull().sum())"
   ]
  },
  {
   "cell_type": "code",
   "execution_count": 192,
   "id": "76e3a160-ad9f-4336-aff1-8fbd7ba29a33",
   "metadata": {
    "scrolled": true
   },
   "outputs": [
    {
     "name": "stdout",
     "output_type": "stream",
     "text": [
      "Empty DataFrame\n",
      "Columns: [Company Name, Age, Salary, City, Country, Gender]\n",
      "Index: []\n"
     ]
    }
   ],
   "source": [
    "# Inappropriate values:\n",
    "print(df1[df1['Salary'] < 0])"
   ]
  },
  {
   "cell_type": "code",
   "execution_count": 194,
   "id": "664d7946-ca4d-4235-9fe4-c9619cceead2",
   "metadata": {},
   "outputs": [],
   "source": [
    "# Duplicate rows:\n",
    "df1 = df1.drop_duplicates()"
   ]
  },
  {
   "cell_type": "code",
   "execution_count": 200,
   "id": "3a47ba61-a9dd-4953-a6f9-5b8e834d9adf",
   "metadata": {},
   "outputs": [],
   "source": [
    "# outliers and its removal\n",
    "# using IQR for a numerical column 'salary'\n",
    "Q1 = df1['Salary'].quantile(0.25)\n",
    "Q3 = df1['Salary'].quantile(0.75)\n",
    "IQR = Q3 - Q1\n",
    "lower_bound = Q1 - 0.5 * IQR\n",
    "upper_bound = Q3 + 0.5 * IQR\n",
    "df1_iqr= df1[(df1['Salary'] >= lower_bound) & (df1['Salary'] <= upper_bound)]\n"
   ]
  },
  {
   "cell_type": "code",
   "execution_count": 202,
   "id": "bf62dceb-0b0b-431d-a1da-9ba9d0d9dca0",
   "metadata": {},
   "outputs": [
    {
     "data": {
      "text/html": [
       "<div>\n",
       "<style scoped>\n",
       "    .dataframe tbody tr th:only-of-type {\n",
       "        vertical-align: middle;\n",
       "    }\n",
       "\n",
       "    .dataframe tbody tr th {\n",
       "        vertical-align: top;\n",
       "    }\n",
       "\n",
       "    .dataframe thead th {\n",
       "        text-align: right;\n",
       "    }\n",
       "</style>\n",
       "<table border=\"1\" class=\"dataframe\">\n",
       "  <thead>\n",
       "    <tr style=\"text-align: right;\">\n",
       "      <th></th>\n",
       "      <th>Company Name</th>\n",
       "      <th>Age</th>\n",
       "      <th>Salary</th>\n",
       "      <th>City</th>\n",
       "      <th>Country</th>\n",
       "      <th>Gender</th>\n",
       "    </tr>\n",
       "  </thead>\n",
       "  <tbody>\n",
       "    <tr>\n",
       "      <th>0</th>\n",
       "      <td>TCS</td>\n",
       "      <td>20.0</td>\n",
       "      <td>5000.0</td>\n",
       "      <td>Mumbai</td>\n",
       "      <td>India</td>\n",
       "      <td>0</td>\n",
       "    </tr>\n",
       "    <tr>\n",
       "      <th>1</th>\n",
       "      <td>TCS</td>\n",
       "      <td>30.0</td>\n",
       "      <td>5000.0</td>\n",
       "      <td>Mumbai</td>\n",
       "      <td>India</td>\n",
       "      <td>0</td>\n",
       "    </tr>\n",
       "    <tr>\n",
       "      <th>2</th>\n",
       "      <td>TCS</td>\n",
       "      <td>35.0</td>\n",
       "      <td>2300.0</td>\n",
       "      <td>Mumbai</td>\n",
       "      <td>India</td>\n",
       "      <td>0</td>\n",
       "    </tr>\n",
       "    <tr>\n",
       "      <th>3</th>\n",
       "      <td>TCS</td>\n",
       "      <td>40.0</td>\n",
       "      <td>3000.0</td>\n",
       "      <td>Mumbai</td>\n",
       "      <td>India</td>\n",
       "      <td>0</td>\n",
       "    </tr>\n",
       "    <tr>\n",
       "      <th>4</th>\n",
       "      <td>TCS</td>\n",
       "      <td>23.0</td>\n",
       "      <td>4000.0</td>\n",
       "      <td>Mumbai</td>\n",
       "      <td>India</td>\n",
       "      <td>0</td>\n",
       "    </tr>\n",
       "    <tr>\n",
       "      <th>...</th>\n",
       "      <td>...</td>\n",
       "      <td>...</td>\n",
       "      <td>...</td>\n",
       "      <td>...</td>\n",
       "      <td>...</td>\n",
       "      <td>...</td>\n",
       "    </tr>\n",
       "    <tr>\n",
       "      <th>138</th>\n",
       "      <td>TCS</td>\n",
       "      <td>44.0</td>\n",
       "      <td>3033.0</td>\n",
       "      <td>Mumbai</td>\n",
       "      <td>India</td>\n",
       "      <td>0</td>\n",
       "    </tr>\n",
       "    <tr>\n",
       "      <th>142</th>\n",
       "      <td>TCS</td>\n",
       "      <td>22.0</td>\n",
       "      <td>8202.0</td>\n",
       "      <td>Mumbai</td>\n",
       "      <td>India</td>\n",
       "      <td>0</td>\n",
       "    </tr>\n",
       "    <tr>\n",
       "      <th>143</th>\n",
       "      <td>TCS</td>\n",
       "      <td>33.0</td>\n",
       "      <td>9024.0</td>\n",
       "      <td>Mumbai</td>\n",
       "      <td>India</td>\n",
       "      <td>1</td>\n",
       "    </tr>\n",
       "    <tr>\n",
       "      <th>145</th>\n",
       "      <td>TCS</td>\n",
       "      <td>44.0</td>\n",
       "      <td>4034.0</td>\n",
       "      <td>Mumbai</td>\n",
       "      <td>India</td>\n",
       "      <td>1</td>\n",
       "    </tr>\n",
       "    <tr>\n",
       "      <th>146</th>\n",
       "      <td>TCS</td>\n",
       "      <td>33.0</td>\n",
       "      <td>5034.0</td>\n",
       "      <td>Mumbai</td>\n",
       "      <td>India</td>\n",
       "      <td>1</td>\n",
       "    </tr>\n",
       "  </tbody>\n",
       "</table>\n",
       "<p>116 rows × 6 columns</p>\n",
       "</div>"
      ],
      "text/plain": [
       "    Company Name   Age  Salary    City Country  Gender\n",
       "0            TCS  20.0  5000.0  Mumbai   India       0\n",
       "1            TCS  30.0  5000.0  Mumbai   India       0\n",
       "2            TCS  35.0  2300.0  Mumbai   India       0\n",
       "3            TCS  40.0  3000.0  Mumbai   India       0\n",
       "4            TCS  23.0  4000.0  Mumbai   India       0\n",
       "..           ...   ...     ...     ...     ...     ...\n",
       "138          TCS  44.0  3033.0  Mumbai   India       0\n",
       "142          TCS  22.0  8202.0  Mumbai   India       0\n",
       "143          TCS  33.0  9024.0  Mumbai   India       1\n",
       "145          TCS  44.0  4034.0  Mumbai   India       1\n",
       "146          TCS  33.0  5034.0  Mumbai   India       1\n",
       "\n",
       "[116 rows x 6 columns]"
      ]
     },
     "execution_count": 202,
     "metadata": {},
     "output_type": "execute_result"
    }
   ],
   "source": [
    "df1_iqr"
   ]
  },
  {
   "cell_type": "code",
   "execution_count": null,
   "id": "e9dd73b8-d5bb-4731-9611-18f942e47ae6",
   "metadata": {},
   "outputs": [],
   "source": [
    "# 3:Data Analysis:"
   ]
  },
  {
   "cell_type": "code",
   "execution_count": 180,
   "id": "6f334d89-d013-4a0a-b173-9d14cbdfbd63",
   "metadata": {},
   "outputs": [],
   "source": [
    "# Filter data:\n",
    "filtered_df1 = df1[(df1['Age'] > 40) & (df1['Salary'] < 5000)]"
   ]
  },
  {
   "cell_type": "code",
   "execution_count": 182,
   "id": "ec416327-f3c7-4ddd-bdd5-cbed9e3688a5",
   "metadata": {},
   "outputs": [
    {
     "data": {
      "text/html": [
       "<div>\n",
       "<style scoped>\n",
       "    .dataframe tbody tr th:only-of-type {\n",
       "        vertical-align: middle;\n",
       "    }\n",
       "\n",
       "    .dataframe tbody tr th {\n",
       "        vertical-align: top;\n",
       "    }\n",
       "\n",
       "    .dataframe thead th {\n",
       "        text-align: right;\n",
       "    }\n",
       "</style>\n",
       "<table border=\"1\" class=\"dataframe\">\n",
       "  <thead>\n",
       "    <tr style=\"text-align: right;\">\n",
       "      <th></th>\n",
       "      <th>Company Name</th>\n",
       "      <th>Age</th>\n",
       "      <th>Salary</th>\n",
       "      <th>City</th>\n",
       "      <th>Country</th>\n",
       "      <th>Gender</th>\n",
       "    </tr>\n",
       "  </thead>\n",
       "  <tbody>\n",
       "    <tr>\n",
       "      <th>21</th>\n",
       "      <td>TCS</td>\n",
       "      <td>50.0</td>\n",
       "      <td>3184.0</td>\n",
       "      <td>Mumbai</td>\n",
       "      <td>India</td>\n",
       "      <td>0</td>\n",
       "    </tr>\n",
       "    <tr>\n",
       "      <th>32</th>\n",
       "      <td>TCS</td>\n",
       "      <td>45.0</td>\n",
       "      <td>4034.0</td>\n",
       "      <td>Mumbai</td>\n",
       "      <td>India</td>\n",
       "      <td>0</td>\n",
       "    </tr>\n",
       "    <tr>\n",
       "      <th>39</th>\n",
       "      <td>TCS</td>\n",
       "      <td>41.0</td>\n",
       "      <td>3000.0</td>\n",
       "      <td>Mumbai</td>\n",
       "      <td>India</td>\n",
       "      <td>0</td>\n",
       "    </tr>\n",
       "    <tr>\n",
       "      <th>50</th>\n",
       "      <td>TCS</td>\n",
       "      <td>41.0</td>\n",
       "      <td>3000.0</td>\n",
       "      <td>Mumbai</td>\n",
       "      <td>India</td>\n",
       "      <td>0</td>\n",
       "    </tr>\n",
       "    <tr>\n",
       "      <th>57</th>\n",
       "      <td>TCS</td>\n",
       "      <td>51.0</td>\n",
       "      <td>3184.0</td>\n",
       "      <td>Mumbai</td>\n",
       "      <td>India</td>\n",
       "      <td>0</td>\n",
       "    </tr>\n",
       "    <tr>\n",
       "      <th>68</th>\n",
       "      <td>TCS</td>\n",
       "      <td>43.0</td>\n",
       "      <td>4034.0</td>\n",
       "      <td>Mumbai</td>\n",
       "      <td>India</td>\n",
       "      <td>0</td>\n",
       "    </tr>\n",
       "    <tr>\n",
       "      <th>75</th>\n",
       "      <td>TCS</td>\n",
       "      <td>44.0</td>\n",
       "      <td>3000.0</td>\n",
       "      <td>Mumbai</td>\n",
       "      <td>India</td>\n",
       "      <td>0</td>\n",
       "    </tr>\n",
       "    <tr>\n",
       "      <th>86</th>\n",
       "      <td>TCS</td>\n",
       "      <td>41.0</td>\n",
       "      <td>3000.0</td>\n",
       "      <td>Mumbai</td>\n",
       "      <td>India</td>\n",
       "      <td>0</td>\n",
       "    </tr>\n",
       "    <tr>\n",
       "      <th>93</th>\n",
       "      <td>TCS</td>\n",
       "      <td>54.0</td>\n",
       "      <td>3184.0</td>\n",
       "      <td>Mumbai</td>\n",
       "      <td>India</td>\n",
       "      <td>0</td>\n",
       "    </tr>\n",
       "    <tr>\n",
       "      <th>104</th>\n",
       "      <td>TCS</td>\n",
       "      <td>44.0</td>\n",
       "      <td>4034.0</td>\n",
       "      <td>Mumbai</td>\n",
       "      <td>India</td>\n",
       "      <td>0</td>\n",
       "    </tr>\n",
       "    <tr>\n",
       "      <th>122</th>\n",
       "      <td>TCS</td>\n",
       "      <td>44.0</td>\n",
       "      <td>3234.0</td>\n",
       "      <td>Mumbai</td>\n",
       "      <td>India</td>\n",
       "      <td>0</td>\n",
       "    </tr>\n",
       "    <tr>\n",
       "      <th>129</th>\n",
       "      <td>TCS</td>\n",
       "      <td>50.0</td>\n",
       "      <td>3184.0</td>\n",
       "      <td>Mumbai</td>\n",
       "      <td>India</td>\n",
       "      <td>0</td>\n",
       "    </tr>\n",
       "    <tr>\n",
       "      <th>138</th>\n",
       "      <td>TCS</td>\n",
       "      <td>44.0</td>\n",
       "      <td>3033.0</td>\n",
       "      <td>Mumbai</td>\n",
       "      <td>India</td>\n",
       "      <td>0</td>\n",
       "    </tr>\n",
       "    <tr>\n",
       "      <th>140</th>\n",
       "      <td>TCS</td>\n",
       "      <td>44.0</td>\n",
       "      <td>4034.0</td>\n",
       "      <td>Mumbai</td>\n",
       "      <td>India</td>\n",
       "      <td>0</td>\n",
       "    </tr>\n",
       "    <tr>\n",
       "      <th>145</th>\n",
       "      <td>TCS</td>\n",
       "      <td>44.0</td>\n",
       "      <td>4034.0</td>\n",
       "      <td>Mumbai</td>\n",
       "      <td>India</td>\n",
       "      <td>1</td>\n",
       "    </tr>\n",
       "  </tbody>\n",
       "</table>\n",
       "</div>"
      ],
      "text/plain": [
       "    Company Name   Age  Salary    City Country  Gender\n",
       "21           TCS  50.0  3184.0  Mumbai   India       0\n",
       "32           TCS  45.0  4034.0  Mumbai   India       0\n",
       "39           TCS  41.0  3000.0  Mumbai   India       0\n",
       "50           TCS  41.0  3000.0  Mumbai   India       0\n",
       "57           TCS  51.0  3184.0  Mumbai   India       0\n",
       "68           TCS  43.0  4034.0  Mumbai   India       0\n",
       "75           TCS  44.0  3000.0  Mumbai   India       0\n",
       "86           TCS  41.0  3000.0  Mumbai   India       0\n",
       "93           TCS  54.0  3184.0  Mumbai   India       0\n",
       "104          TCS  44.0  4034.0  Mumbai   India       0\n",
       "122          TCS  44.0  3234.0  Mumbai   India       0\n",
       "129          TCS  50.0  3184.0  Mumbai   India       0\n",
       "138          TCS  44.0  3033.0  Mumbai   India       0\n",
       "140          TCS  44.0  4034.0  Mumbai   India       0\n",
       "145          TCS  44.0  4034.0  Mumbai   India       1"
      ]
     },
     "execution_count": 182,
     "metadata": {},
     "output_type": "execute_result"
    }
   ],
   "source": [
    "filtered_df1"
   ]
  },
  {
   "cell_type": "code",
   "execution_count": 184,
   "id": "692bc3c9-489c-4066-b47c-9bc0f8b4aeb4",
   "metadata": {},
   "outputs": [
    {
     "data": {
      "image/png": "[encoded data removed]",
      "text/plain": [
       "<Figure size 800x600 with 1 Axes>"
      ]
     },
     "metadata": {},
     "output_type": "display_data"
    }
   ],
   "source": [
    "# Scatter Plot\n",
    "plt.figure(figsize=(8,6))\n",
    "snc.scatterplot(x=\"Age\",y=\"Salary\",data=filtered_df1)\n",
    "plt.title('Age vs Salary')\n",
    "plt.xlabel(\"Age\")\n",
    "plt.ylabel(\"Salary\")\n",
    "plt.show()"
   ]
  },
  {
   "cell_type": "code",
   "execution_count": 190,
   "id": "a2705b93-50d7-4e2a-9c9f-08279087b40b",
   "metadata": {},
   "outputs": [
    {
     "name": "stdout",
     "output_type": "stream",
     "text": [
      "City\n",
      "Mumbai    148\n",
      "Name: count, dtype: int64\n"
     ]
    }
   ],
   "source": [
    "# Count people from each place:\n",
    "place_counts = df1['City'].value_counts()\n",
    "print(place_counts)"
   ]
  },
  {
   "cell_type": "code",
   "execution_count": 210,
   "id": "4f9fa3b8-0351-431e-9f7e-004db927486e",
   "metadata": {},
   "outputs": [
    {
     "data": {
      "image/png": "[encoded data removed]",
      "text/plain": [
       "<Figure size 1000x600 with 1 Axes>"
      ]
     },
     "metadata": {},
     "output_type": "display_data"
    }
   ],
   "source": [
    "# Visualize place counts\n",
    "plt.figure(figsize=(10, 6))\n",
    "sns.countplot(x='City', data=df)\n",
    "plt.title('Count of People from Each City')\n",
    "plt.xlabel('City')\n",
    "plt.ylabel('Count')\n",
    "plt.xticks(rotation=45)  # Rotate x-axis labels if needed\n",
    "plt.show()"
   ]
  },
  {
   "cell_type": "code",
   "execution_count": null,
   "id": "fa29ef4e-7d7f-4481-8175-7de556a93b27",
   "metadata": {},
   "outputs": [],
   "source": [
    "# 4:Data Encoding"
   ]
  },
  {
   "cell_type": "code",
   "execution_count": 212,
   "id": "8f456afe-6d99-46ff-9759-ac65de9194ef",
   "metadata": {},
   "outputs": [],
   "source": [
    "# One-hot encoding:\n",
    "df1 = pd.get_dummies(df1, columns=['Gender', 'City'])"
   ]
  },
  {
   "cell_type": "code",
   "execution_count": 218,
   "id": "98890e25-74fd-4f13-a6a9-a170416b4c99",
   "metadata": {},
   "outputs": [],
   "source": [
    "# Label encoding:\n",
    "from sklearn.preprocessing import LabelEncoder\n",
    "\n",
    "label_encoder = LabelEncoder()\n",
    "df1['Gender_LabelEncoded'] = label_encoder.fit_transform(df1['Gender_1'])"
   ]
  },
  {
   "cell_type": "code",
   "execution_count": 227,
   "id": "fbf8f16d-5c22-4e11-b4c7-35a52c80ede2",
   "metadata": {},
   "outputs": [
    {
     "data": {
      "text/plain": [
       "0      0\n",
       "1      0\n",
       "2      0\n",
       "3      0\n",
       "4      0\n",
       "      ..\n",
       "138    0\n",
       "142    0\n",
       "143    1\n",
       "145    1\n",
       "146    1\n",
       "Name: Gender_LabelEncoded, Length: 116, dtype: int64"
      ]
     },
     "execution_count": 227,
     "metadata": {},
     "output_type": "execute_result"
    }
   ],
   "source": [
    "df1['Gender_LabelEncoded']"
   ]
  },
  {
   "cell_type": "code",
   "execution_count": null,
   "id": "2468fa58-5105-4777-a1cf-8b348ca1f5c9",
   "metadata": {},
   "outputs": [],
   "source": [
    "# 5 Feature Scaling:"
   ]
  },
  {
   "cell_type": "code",
   "execution_count": 221,
   "id": "04582591-607e-43d2-8dcc-0036d8f6c839",
   "metadata": {},
   "outputs": [],
   "source": [
    "# StandardScaler:\n",
    "scaler = StandardScaler()\n",
    "df1[['Age', 'Salary']] = scaler.fit_transform(df1[['Age', 'Salary']])"
   ]
  },
  {
   "cell_type": "code",
   "execution_count": 223,
   "id": "65ecc6bf-9a0e-46b6-9e42-59b0c3f10502",
   "metadata": {},
   "outputs": [],
   "source": [
    "# MinMaxScaler:\n",
    "scaler = MinMaxScaler()\n",
    "df1[['Age_MinMaxScaled', 'Salary_MinMaxScaled']] = scaler.fit_transform(df1[['Age', 'Salary']])"
   ]
  },
  {
   "cell_type": "code",
   "execution_count": 225,
   "id": "5e660b2f-bba6-4720-966d-66efcdc44a96",
   "metadata": {},
   "outputs": [
    {
     "data": {
      "text/html": [
       "<div>\n",
       "<style scoped>\n",
       "    .dataframe tbody tr th:only-of-type {\n",
       "        vertical-align: middle;\n",
       "    }\n",
       "\n",
       "    .dataframe tbody tr th {\n",
       "        vertical-align: top;\n",
       "    }\n",
       "\n",
       "    .dataframe thead th {\n",
       "        text-align: right;\n",
       "    }\n",
       "</style>\n",
       "<table border=\"1\" class=\"dataframe\">\n",
       "  <thead>\n",
       "    <tr style=\"text-align: right;\">\n",
       "      <th></th>\n",
       "      <th>Age_MinMaxScaled</th>\n",
       "      <th>Salary_MinMaxScaled</th>\n",
       "    </tr>\n",
       "  </thead>\n",
       "  <tbody>\n",
       "    <tr>\n",
       "      <th>0</th>\n",
       "      <td>0.081081</td>\n",
       "      <td>0.445089</td>\n",
       "    </tr>\n",
       "    <tr>\n",
       "      <th>1</th>\n",
       "      <td>0.351351</td>\n",
       "      <td>0.445089</td>\n",
       "    </tr>\n",
       "    <tr>\n",
       "      <th>2</th>\n",
       "      <td>0.486486</td>\n",
       "      <td>0.137817</td>\n",
       "    </tr>\n",
       "    <tr>\n",
       "      <th>3</th>\n",
       "      <td>0.621622</td>\n",
       "      <td>0.217480</td>\n",
       "    </tr>\n",
       "    <tr>\n",
       "      <th>4</th>\n",
       "      <td>0.162162</td>\n",
       "      <td>0.331285</td>\n",
       "    </tr>\n",
       "    <tr>\n",
       "      <th>...</th>\n",
       "      <td>...</td>\n",
       "      <td>...</td>\n",
       "    </tr>\n",
       "    <tr>\n",
       "      <th>138</th>\n",
       "      <td>0.729730</td>\n",
       "      <td>0.221236</td>\n",
       "    </tr>\n",
       "    <tr>\n",
       "      <th>142</th>\n",
       "      <td>0.135135</td>\n",
       "      <td>0.809491</td>\n",
       "    </tr>\n",
       "    <tr>\n",
       "      <th>143</th>\n",
       "      <td>0.432432</td>\n",
       "      <td>0.903039</td>\n",
       "    </tr>\n",
       "    <tr>\n",
       "      <th>145</th>\n",
       "      <td>0.729730</td>\n",
       "      <td>0.335154</td>\n",
       "    </tr>\n",
       "    <tr>\n",
       "      <th>146</th>\n",
       "      <td>0.432432</td>\n",
       "      <td>0.448959</td>\n",
       "    </tr>\n",
       "  </tbody>\n",
       "</table>\n",
       "<p>116 rows × 2 columns</p>\n",
       "</div>"
      ],
      "text/plain": [
       "     Age_MinMaxScaled  Salary_MinMaxScaled\n",
       "0            0.081081             0.445089\n",
       "1            0.351351             0.445089\n",
       "2            0.486486             0.137817\n",
       "3            0.621622             0.217480\n",
       "4            0.162162             0.331285\n",
       "..                ...                  ...\n",
       "138          0.729730             0.221236\n",
       "142          0.135135             0.809491\n",
       "143          0.432432             0.903039\n",
       "145          0.729730             0.335154\n",
       "146          0.432432             0.448959\n",
       "\n",
       "[116 rows x 2 columns]"
      ]
     },
     "execution_count": 225,
     "metadata": {},
     "output_type": "execute_result"
    }
   ],
   "source": [
    "df1[['Age_MinMaxScaled', 'Salary_MinMaxScaled']] "
   ]
  },
  {
   "cell_type": "code",
   "execution_count": 229,
   "id": "f64df6f3-bd73-48cd-b2a5-6073f9853d65",
   "metadata": {},
   "outputs": [
    {
     "data": {
      "text/html": [
       "<div>\n",
       "<style scoped>\n",
       "    .dataframe tbody tr th:only-of-type {\n",
       "        vertical-align: middle;\n",
       "    }\n",
       "\n",
       "    .dataframe tbody tr th {\n",
       "        vertical-align: top;\n",
       "    }\n",
       "\n",
       "    .dataframe thead th {\n",
       "        text-align: right;\n",
       "    }\n",
       "</style>\n",
       "<table border=\"1\" class=\"dataframe\">\n",
       "  <thead>\n",
       "    <tr style=\"text-align: right;\">\n",
       "      <th></th>\n",
       "      <th>Company Name</th>\n",
       "      <th>Age</th>\n",
       "      <th>Salary</th>\n",
       "      <th>Country</th>\n",
       "      <th>Gender_0</th>\n",
       "      <th>Gender_1</th>\n",
       "      <th>City_Mumbai</th>\n",
       "      <th>Gender_LabelEncoded</th>\n",
       "      <th>Age_MinMaxScaled</th>\n",
       "      <th>Salary_MinMaxScaled</th>\n",
       "    </tr>\n",
       "  </thead>\n",
       "  <tbody>\n",
       "    <tr>\n",
       "      <th>0</th>\n",
       "      <td>TCS</td>\n",
       "      <td>-1.406110</td>\n",
       "      <td>-0.144091</td>\n",
       "      <td>India</td>\n",
       "      <td>True</td>\n",
       "      <td>False</td>\n",
       "      <td>True</td>\n",
       "      <td>0</td>\n",
       "      <td>0.081081</td>\n",
       "      <td>0.445089</td>\n",
       "    </tr>\n",
       "    <tr>\n",
       "      <th>1</th>\n",
       "      <td>TCS</td>\n",
       "      <td>-0.221927</td>\n",
       "      <td>-0.144091</td>\n",
       "      <td>India</td>\n",
       "      <td>True</td>\n",
       "      <td>False</td>\n",
       "      <td>True</td>\n",
       "      <td>0</td>\n",
       "      <td>0.351351</td>\n",
       "      <td>0.445089</td>\n",
       "    </tr>\n",
       "    <tr>\n",
       "      <th>2</th>\n",
       "      <td>TCS</td>\n",
       "      <td>0.370164</td>\n",
       "      <td>-1.219853</td>\n",
       "      <td>India</td>\n",
       "      <td>True</td>\n",
       "      <td>False</td>\n",
       "      <td>True</td>\n",
       "      <td>0</td>\n",
       "      <td>0.486486</td>\n",
       "      <td>0.137817</td>\n",
       "    </tr>\n",
       "    <tr>\n",
       "      <th>3</th>\n",
       "      <td>TCS</td>\n",
       "      <td>0.962256</td>\n",
       "      <td>-0.940952</td>\n",
       "      <td>India</td>\n",
       "      <td>True</td>\n",
       "      <td>False</td>\n",
       "      <td>True</td>\n",
       "      <td>0</td>\n",
       "      <td>0.621622</td>\n",
       "      <td>0.217480</td>\n",
       "    </tr>\n",
       "    <tr>\n",
       "      <th>4</th>\n",
       "      <td>TCS</td>\n",
       "      <td>-1.050855</td>\n",
       "      <td>-0.542521</td>\n",
       "      <td>India</td>\n",
       "      <td>True</td>\n",
       "      <td>False</td>\n",
       "      <td>True</td>\n",
       "      <td>0</td>\n",
       "      <td>0.162162</td>\n",
       "      <td>0.331285</td>\n",
       "    </tr>\n",
       "    <tr>\n",
       "      <th>...</th>\n",
       "      <td>...</td>\n",
       "      <td>...</td>\n",
       "      <td>...</td>\n",
       "      <td>...</td>\n",
       "      <td>...</td>\n",
       "      <td>...</td>\n",
       "      <td>...</td>\n",
       "      <td>...</td>\n",
       "      <td>...</td>\n",
       "      <td>...</td>\n",
       "    </tr>\n",
       "    <tr>\n",
       "      <th>138</th>\n",
       "      <td>TCS</td>\n",
       "      <td>1.435929</td>\n",
       "      <td>-0.927804</td>\n",
       "      <td>India</td>\n",
       "      <td>True</td>\n",
       "      <td>False</td>\n",
       "      <td>True</td>\n",
       "      <td>0</td>\n",
       "      <td>0.729730</td>\n",
       "      <td>0.221236</td>\n",
       "    </tr>\n",
       "    <tr>\n",
       "      <th>142</th>\n",
       "      <td>TCS</td>\n",
       "      <td>-1.169274</td>\n",
       "      <td>1.131683</td>\n",
       "      <td>India</td>\n",
       "      <td>True</td>\n",
       "      <td>False</td>\n",
       "      <td>True</td>\n",
       "      <td>0</td>\n",
       "      <td>0.135135</td>\n",
       "      <td>0.809491</td>\n",
       "    </tr>\n",
       "    <tr>\n",
       "      <th>143</th>\n",
       "      <td>TCS</td>\n",
       "      <td>0.133328</td>\n",
       "      <td>1.459193</td>\n",
       "      <td>India</td>\n",
       "      <td>False</td>\n",
       "      <td>True</td>\n",
       "      <td>True</td>\n",
       "      <td>1</td>\n",
       "      <td>0.432432</td>\n",
       "      <td>0.903039</td>\n",
       "    </tr>\n",
       "    <tr>\n",
       "      <th>145</th>\n",
       "      <td>TCS</td>\n",
       "      <td>1.435929</td>\n",
       "      <td>-0.528975</td>\n",
       "      <td>India</td>\n",
       "      <td>False</td>\n",
       "      <td>True</td>\n",
       "      <td>True</td>\n",
       "      <td>1</td>\n",
       "      <td>0.729730</td>\n",
       "      <td>0.335154</td>\n",
       "    </tr>\n",
       "    <tr>\n",
       "      <th>146</th>\n",
       "      <td>TCS</td>\n",
       "      <td>0.133328</td>\n",
       "      <td>-0.130544</td>\n",
       "      <td>India</td>\n",
       "      <td>False</td>\n",
       "      <td>True</td>\n",
       "      <td>True</td>\n",
       "      <td>1</td>\n",
       "      <td>0.432432</td>\n",
       "      <td>0.448959</td>\n",
       "    </tr>\n",
       "  </tbody>\n",
       "</table>\n",
       "<p>116 rows × 10 columns</p>\n",
       "</div>"
      ],
      "text/plain": [
       "    Company Name       Age    Salary Country  Gender_0  Gender_1  City_Mumbai  \\\n",
       "0            TCS -1.406110 -0.144091   India      True     False         True   \n",
       "1            TCS -0.221927 -0.144091   India      True     False         True   \n",
       "2            TCS  0.370164 -1.219853   India      True     False         True   \n",
       "3            TCS  0.962256 -0.940952   India      True     False         True   \n",
       "4            TCS -1.050855 -0.542521   India      True     False         True   \n",
       "..           ...       ...       ...     ...       ...       ...          ...   \n",
       "138          TCS  1.435929 -0.927804   India      True     False         True   \n",
       "142          TCS -1.169274  1.131683   India      True     False         True   \n",
       "143          TCS  0.133328  1.459193   India     False      True         True   \n",
       "145          TCS  1.435929 -0.528975   India     False      True         True   \n",
       "146          TCS  0.133328 -0.130544   India     False      True         True   \n",
       "\n",
       "     Gender_LabelEncoded  Age_MinMaxScaled  Salary_MinMaxScaled  \n",
       "0                      0          0.081081             0.445089  \n",
       "1                      0          0.351351             0.445089  \n",
       "2                      0          0.486486             0.137817  \n",
       "3                      0          0.621622             0.217480  \n",
       "4                      0          0.162162             0.331285  \n",
       "..                   ...               ...                  ...  \n",
       "138                    0          0.729730             0.221236  \n",
       "142                    0          0.135135             0.809491  \n",
       "143                    1          0.432432             0.903039  \n",
       "145                    1          0.729730             0.335154  \n",
       "146                    1          0.432432             0.448959  \n",
       "\n",
       "[116 rows x 10 columns]"
      ]
     },
     "execution_count": 229,
     "metadata": {},
     "output_type": "execute_result"
    }
   ],
   "source": [
    "df1"
   ]
  },
  {
   "cell_type": "code",
   "execution_count": null,
   "id": "73db0ff5-1295-4d23-8d95-d31519c2dc09",
   "metadata": {},
   "outputs": [],
   "source": []
  }
 ],
 "metadata": {
  "kernelspec": {
   "display_name": "Python 3 (ipykernel)",
   "language": "python",
   "name": "python3"
  },
  "language_info": {
   "codemirror_mode": {
    "name": "ipython",
    "version": 3
   },
   "file_extension": ".py",
   "mimetype": "text/x-python",
   "name": "python",
   "nbconvert_exporter": "python",
   "pygments_lexer": "ipython3",
   "version": "3.12.7"
  }
 },
 "nbformat": 4,
 "nbformat_minor": 5
}
